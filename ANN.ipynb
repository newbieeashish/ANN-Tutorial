{
 "cells": [
  {
   "cell_type": "code",
   "execution_count": 1,
   "metadata": {},
   "outputs": [],
   "source": [
    "import numpy as np\n",
    "import matplotlib.pyplot as plt\n",
    "import pandas as pd"
   ]
  },
  {
   "cell_type": "code",
   "execution_count": 2,
   "metadata": {},
   "outputs": [],
   "source": [
    "dataset = pd.read_csv('Churn_Modelling.csv')\n"
   ]
  },
  {
   "cell_type": "code",
   "execution_count": 3,
   "metadata": {},
   "outputs": [
    {
     "data": {
      "text/html": [
       "<div>\n",
       "<style scoped>\n",
       "    .dataframe tbody tr th:only-of-type {\n",
       "        vertical-align: middle;\n",
       "    }\n",
       "\n",
       "    .dataframe tbody tr th {\n",
       "        vertical-align: top;\n",
       "    }\n",
       "\n",
       "    .dataframe thead th {\n",
       "        text-align: right;\n",
       "    }\n",
       "</style>\n",
       "<table border=\"1\" class=\"dataframe\">\n",
       "  <thead>\n",
       "    <tr style=\"text-align: right;\">\n",
       "      <th></th>\n",
       "      <th>RowNumber</th>\n",
       "      <th>CustomerId</th>\n",
       "      <th>Surname</th>\n",
       "      <th>CreditScore</th>\n",
       "      <th>Geography</th>\n",
       "      <th>Gender</th>\n",
       "      <th>Age</th>\n",
       "      <th>Tenure</th>\n",
       "      <th>Balance</th>\n",
       "      <th>NumOfProducts</th>\n",
       "      <th>HasCrCard</th>\n",
       "      <th>IsActiveMember</th>\n",
       "      <th>EstimatedSalary</th>\n",
       "      <th>Exited</th>\n",
       "    </tr>\n",
       "  </thead>\n",
       "  <tbody>\n",
       "    <tr>\n",
       "      <th>0</th>\n",
       "      <td>1</td>\n",
       "      <td>15634602</td>\n",
       "      <td>Hargrave</td>\n",
       "      <td>619</td>\n",
       "      <td>France</td>\n",
       "      <td>Female</td>\n",
       "      <td>42</td>\n",
       "      <td>2</td>\n",
       "      <td>0.00</td>\n",
       "      <td>1</td>\n",
       "      <td>1</td>\n",
       "      <td>1</td>\n",
       "      <td>101348.88</td>\n",
       "      <td>1</td>\n",
       "    </tr>\n",
       "    <tr>\n",
       "      <th>1</th>\n",
       "      <td>2</td>\n",
       "      <td>15647311</td>\n",
       "      <td>Hill</td>\n",
       "      <td>608</td>\n",
       "      <td>Spain</td>\n",
       "      <td>Female</td>\n",
       "      <td>41</td>\n",
       "      <td>1</td>\n",
       "      <td>83807.86</td>\n",
       "      <td>1</td>\n",
       "      <td>0</td>\n",
       "      <td>1</td>\n",
       "      <td>112542.58</td>\n",
       "      <td>0</td>\n",
       "    </tr>\n",
       "    <tr>\n",
       "      <th>2</th>\n",
       "      <td>3</td>\n",
       "      <td>15619304</td>\n",
       "      <td>Onio</td>\n",
       "      <td>502</td>\n",
       "      <td>France</td>\n",
       "      <td>Female</td>\n",
       "      <td>42</td>\n",
       "      <td>8</td>\n",
       "      <td>159660.80</td>\n",
       "      <td>3</td>\n",
       "      <td>1</td>\n",
       "      <td>0</td>\n",
       "      <td>113931.57</td>\n",
       "      <td>1</td>\n",
       "    </tr>\n",
       "    <tr>\n",
       "      <th>3</th>\n",
       "      <td>4</td>\n",
       "      <td>15701354</td>\n",
       "      <td>Boni</td>\n",
       "      <td>699</td>\n",
       "      <td>France</td>\n",
       "      <td>Female</td>\n",
       "      <td>39</td>\n",
       "      <td>1</td>\n",
       "      <td>0.00</td>\n",
       "      <td>2</td>\n",
       "      <td>0</td>\n",
       "      <td>0</td>\n",
       "      <td>93826.63</td>\n",
       "      <td>0</td>\n",
       "    </tr>\n",
       "    <tr>\n",
       "      <th>4</th>\n",
       "      <td>5</td>\n",
       "      <td>15737888</td>\n",
       "      <td>Mitchell</td>\n",
       "      <td>850</td>\n",
       "      <td>Spain</td>\n",
       "      <td>Female</td>\n",
       "      <td>43</td>\n",
       "      <td>2</td>\n",
       "      <td>125510.82</td>\n",
       "      <td>1</td>\n",
       "      <td>1</td>\n",
       "      <td>1</td>\n",
       "      <td>79084.10</td>\n",
       "      <td>0</td>\n",
       "    </tr>\n",
       "  </tbody>\n",
       "</table>\n",
       "</div>"
      ],
      "text/plain": [
       "   RowNumber  CustomerId   Surname  CreditScore Geography  Gender  Age  \\\n",
       "0          1    15634602  Hargrave          619    France  Female   42   \n",
       "1          2    15647311      Hill          608     Spain  Female   41   \n",
       "2          3    15619304      Onio          502    France  Female   42   \n",
       "3          4    15701354      Boni          699    France  Female   39   \n",
       "4          5    15737888  Mitchell          850     Spain  Female   43   \n",
       "\n",
       "   Tenure    Balance  NumOfProducts  HasCrCard  IsActiveMember  \\\n",
       "0       2       0.00              1          1               1   \n",
       "1       1   83807.86              1          0               1   \n",
       "2       8  159660.80              3          1               0   \n",
       "3       1       0.00              2          0               0   \n",
       "4       2  125510.82              1          1               1   \n",
       "\n",
       "   EstimatedSalary  Exited  \n",
       "0        101348.88       1  \n",
       "1        112542.58       0  \n",
       "2        113931.57       1  \n",
       "3         93826.63       0  \n",
       "4         79084.10       0  "
      ]
     },
     "execution_count": 3,
     "metadata": {},
     "output_type": "execute_result"
    }
   ],
   "source": [
    "dataset.head()"
   ]
  },
  {
   "cell_type": "code",
   "execution_count": 4,
   "metadata": {},
   "outputs": [],
   "source": [
    "X = dataset.iloc[:, 3:13].values\n",
    "y = dataset.iloc[:, 13].values"
   ]
  },
  {
   "cell_type": "code",
   "execution_count": 5,
   "metadata": {},
   "outputs": [],
   "source": [
    "from sklearn.preprocessing import LabelEncoder, OneHotEncoder\n",
    "labelencoder_X_1 = LabelEncoder()\n",
    "X[:, 1] = labelencoder_X_1.fit_transform(X[:, 1])\n",
    "labelencoder_X_2 = LabelEncoder()\n",
    "X[:, 2] = labelencoder_X_2.fit_transform(X[:, 2])\n",
    "\n"
   ]
  },
  {
   "cell_type": "code",
   "execution_count": 6,
   "metadata": {},
   "outputs": [],
   "source": [
    "from sklearn.compose import ColumnTransformer, make_column_transformer\n",
    "onehotencoder= make_column_transformer(\n",
    "\n",
    "(OneHotEncoder(categories='auto'), [1]),\n",
    "\n",
    "remainder=\"passthrough\")\n",
    "\n",
    "X=onehotencoder.fit_transform(X)"
   ]
  },
  {
   "cell_type": "code",
   "execution_count": 8,
   "metadata": {},
   "outputs": [],
   "source": [
    "X = X[:,1:]"
   ]
  },
  {
   "cell_type": "code",
   "execution_count": 13,
   "metadata": {},
   "outputs": [],
   "source": [
    "from sklearn.model_selection import train_test_split\n",
    "X_train, X_test, y_train, y_test = train_test_split(X, y, test_size = 0.25, random_state = 0)"
   ]
  },
  {
   "cell_type": "code",
   "execution_count": 14,
   "metadata": {},
   "outputs": [],
   "source": [
    "from sklearn.preprocessing import StandardScaler\n",
    "sc = StandardScaler()\n",
    "X_train = sc.fit_transform(X_train)\n",
    "X_test = sc.transform(X_test)"
   ]
  },
  {
   "cell_type": "markdown",
   "metadata": {},
   "source": [
    "# ANN"
   ]
  },
  {
   "cell_type": "code",
   "execution_count": 17,
   "metadata": {},
   "outputs": [],
   "source": [
    "import keras"
   ]
  },
  {
   "cell_type": "code",
   "execution_count": 18,
   "metadata": {},
   "outputs": [],
   "source": [
    "from keras.models import Sequential"
   ]
  },
  {
   "cell_type": "code",
   "execution_count": 20,
   "metadata": {},
   "outputs": [],
   "source": [
    "from keras.layers import Dense"
   ]
  },
  {
   "cell_type": "markdown",
   "metadata": {},
   "source": [
    "# intializing ANN"
   ]
  },
  {
   "cell_type": "code",
   "execution_count": 21,
   "metadata": {},
   "outputs": [],
   "source": [
    "classifier = Sequential()"
   ]
  },
  {
   "cell_type": "markdown",
   "metadata": {},
   "source": [
    "# first layer"
   ]
  },
  {
   "cell_type": "code",
   "execution_count": 25,
   "metadata": {},
   "outputs": [],
   "source": [
    "classifier.add(Dense( 6, kernel_initializer  = 'uniform', activation = 'relu', input_dim = 11))"
   ]
  },
  {
   "cell_type": "markdown",
   "metadata": {},
   "source": [
    "# adding new layer"
   ]
  },
  {
   "cell_type": "code",
   "execution_count": 26,
   "metadata": {},
   "outputs": [],
   "source": [
    "classifier.add(Dense( 6, kernel_initializer  = 'uniform', activation = 'relu'))"
   ]
  },
  {
   "cell_type": "markdown",
   "metadata": {},
   "source": [
    "# output layer"
   ]
  },
  {
   "cell_type": "code",
   "execution_count": 27,
   "metadata": {},
   "outputs": [],
   "source": [
    "classifier.add(Dense( 1, kernel_initializer  = 'uniform', activation = 'sigmoid'))"
   ]
  },
  {
   "cell_type": "markdown",
   "metadata": {},
   "source": [
    "# compile ANN"
   ]
  },
  {
   "cell_type": "code",
   "execution_count": 28,
   "metadata": {},
   "outputs": [],
   "source": [
    "classifier.compile(optimizer = 'adam', loss = 'binary_crossentropy', metrics = ['accuracy'])"
   ]
  },
  {
   "cell_type": "code",
   "execution_count": 29,
   "metadata": {},
   "outputs": [
    {
     "name": "stderr",
     "output_type": "stream",
     "text": [
      "c:\\users\\ashish bisht\\appdata\\local\\programs\\python\\python37\\lib\\site-packages\\ipykernel_launcher.py:1: UserWarning: The `nb_epoch` argument in `fit` has been renamed `epochs`.\n",
      "  \"\"\"Entry point for launching an IPython kernel.\n"
     ]
    },
    {
     "name": "stdout",
     "output_type": "stream",
     "text": [
      "Epoch 1/100\n",
      "7500/7500 [==============================] - 2s 246us/step - loss: 0.4928 - accuracy: 0.7963\n",
      "Epoch 2/100\n",
      "7500/7500 [==============================] - 1s 172us/step - loss: 0.4246 - accuracy: 0.7963\n",
      "Epoch 3/100\n",
      "7500/7500 [==============================] - 1s 177us/step - loss: 0.4115 - accuracy: 0.8088\n",
      "Epoch 4/100\n",
      "7500/7500 [==============================] - 1s 173us/step - loss: 0.4006 - accuracy: 0.8297\n",
      "Epoch 5/100\n",
      "7500/7500 [==============================] - 1s 163us/step - loss: 0.3904 - accuracy: 0.8293\n",
      "Epoch 6/100\n",
      "7500/7500 [==============================] - 1s 171us/step - loss: 0.3820 - accuracy: 0.8349\n",
      "Epoch 7/100\n",
      "7500/7500 [==============================] - 1s 167us/step - loss: 0.3781 - accuracy: 0.8451\n",
      "Epoch 8/100\n",
      "7500/7500 [==============================] - 1s 163us/step - loss: 0.3735 - accuracy: 0.8479\n",
      "Epoch 9/100\n",
      "7500/7500 [==============================] - 1s 162us/step - loss: 0.3696 - accuracy: 0.8467\n",
      "Epoch 10/100\n",
      "7500/7500 [==============================] - 1s 163us/step - loss: 0.3685 - accuracy: 0.8505\n",
      "Epoch 11/100\n",
      "7500/7500 [==============================] - 1s 163us/step - loss: 0.3657 - accuracy: 0.8497\n",
      "Epoch 12/100\n",
      "7500/7500 [==============================] - 1s 184us/step - loss: 0.3640 - accuracy: 0.8511\n",
      "Epoch 13/100\n",
      "7500/7500 [==============================] - 1s 176us/step - loss: 0.3621 - accuracy: 0.8525\n",
      "Epoch 14/100\n",
      "7500/7500 [==============================] - 2s 201us/step - loss: 0.3613 - accuracy: 0.8533\n",
      "Epoch 15/100\n",
      "7500/7500 [==============================] - 1s 187us/step - loss: 0.3607 - accuracy: 0.8545\n",
      "Epoch 16/100\n",
      "7500/7500 [==============================] - 1s 170us/step - loss: 0.3590 - accuracy: 0.8544\n",
      "Epoch 17/100\n",
      "7500/7500 [==============================] - 1s 168us/step - loss: 0.3570 - accuracy: 0.8577\n",
      "Epoch 18/100\n",
      "7500/7500 [==============================] - 1s 169us/step - loss: 0.3568 - accuracy: 0.8556\n",
      "Epoch 19/100\n",
      "7500/7500 [==============================] - 1s 165us/step - loss: 0.3538 - accuracy: 0.8555\n",
      "Epoch 20/100\n",
      "7500/7500 [==============================] - 1s 166us/step - loss: 0.3545 - accuracy: 0.8568\n",
      "Epoch 21/100\n",
      "7500/7500 [==============================] - 1s 169us/step - loss: 0.3535 - accuracy: 0.8579\n",
      "Epoch 22/100\n",
      "7500/7500 [==============================] - 1s 165us/step - loss: 0.3527 - accuracy: 0.8571\n",
      "Epoch 23/100\n",
      "7500/7500 [==============================] - 1s 166us/step - loss: 0.3503 - accuracy: 0.8573\n",
      "Epoch 24/100\n",
      "7500/7500 [==============================] - 1s 169us/step - loss: 0.3504 - accuracy: 0.8565\n",
      "Epoch 25/100\n",
      "7500/7500 [==============================] - 1s 163us/step - loss: 0.3496 - accuracy: 0.8580\n",
      "Epoch 26/100\n",
      "7500/7500 [==============================] - 1s 163us/step - loss: 0.3497 - accuracy: 0.8584\n",
      "Epoch 27/100\n",
      "7500/7500 [==============================] - 1s 185us/step - loss: 0.3483 - accuracy: 0.8584\n",
      "Epoch 28/100\n",
      "7500/7500 [==============================] - 1s 182us/step - loss: 0.3469 - accuracy: 0.8611\n",
      "Epoch 29/100\n",
      "7500/7500 [==============================] - 1s 160us/step - loss: 0.3485 - accuracy: 0.8596\n",
      "Epoch 30/100\n",
      "7500/7500 [==============================] - 1s 190us/step - loss: 0.3483 - accuracy: 0.8593\n",
      "Epoch 31/100\n",
      "7500/7500 [==============================] - 1s 172us/step - loss: 0.3469 - accuracy: 0.8611\n",
      "Epoch 32/100\n",
      "7500/7500 [==============================] - 1s 170us/step - loss: 0.3467 - accuracy: 0.8597\n",
      "Epoch 33/100\n",
      "7500/7500 [==============================] - 1s 165us/step - loss: 0.3472 - accuracy: 0.8563\n",
      "Epoch 34/100\n",
      "7500/7500 [==============================] - 1s 181us/step - loss: 0.3452 - accuracy: 0.8603\n",
      "Epoch 35/100\n",
      "7500/7500 [==============================] - 1s 174us/step - loss: 0.3469 - accuracy: 0.8609\n",
      "Epoch 36/100\n",
      "7500/7500 [==============================] - 1s 160us/step - loss: 0.3454 - accuracy: 0.8591\n",
      "Epoch 37/100\n",
      "7500/7500 [==============================] - 1s 162us/step - loss: 0.3463 - accuracy: 0.8589\n",
      "Epoch 38/100\n",
      "7500/7500 [==============================] - 1s 170us/step - loss: 0.3454 - accuracy: 0.8596\n",
      "Epoch 39/100\n",
      "7500/7500 [==============================] - 1s 168us/step - loss: 0.3452 - accuracy: 0.8573\n",
      "Epoch 40/100\n",
      "7500/7500 [==============================] - 1s 160us/step - loss: 0.3446 - accuracy: 0.8612\n",
      "Epoch 41/100\n",
      "7500/7500 [==============================] - 1s 162us/step - loss: 0.3460 - accuracy: 0.8571\n",
      "Epoch 42/100\n",
      "7500/7500 [==============================] - 1s 155us/step - loss: 0.3444 - accuracy: 0.8601\n",
      "Epoch 43/100\n",
      "7500/7500 [==============================] - 1s 158us/step - loss: 0.3443 - accuracy: 0.8584\n",
      "Epoch 44/100\n",
      "7500/7500 [==============================] - 1s 157us/step - loss: 0.3447 - accuracy: 0.8589\n",
      "Epoch 45/100\n",
      "7500/7500 [==============================] - 1s 158us/step - loss: 0.3450 - accuracy: 0.8600\n",
      "Epoch 46/100\n",
      "7500/7500 [==============================] - 1s 169us/step - loss: 0.3427 - accuracy: 0.8607\n",
      "Epoch 47/100\n",
      "7500/7500 [==============================] - 1s 168us/step - loss: 0.3443 - accuracy: 0.8596\n",
      "Epoch 48/100\n",
      "7500/7500 [==============================] - 1s 167us/step - loss: 0.3432 - accuracy: 0.8580\n",
      "Epoch 49/100\n",
      "7500/7500 [==============================] - 1s 167us/step - loss: 0.3428 - accuracy: 0.8604\n",
      "Epoch 50/100\n",
      "7500/7500 [==============================] - 1s 164us/step - loss: 0.3426 - accuracy: 0.8591\n",
      "Epoch 51/100\n",
      "7500/7500 [==============================] - 1s 167us/step - loss: 0.3417 - accuracy: 0.86200s - loss:\n",
      "Epoch 52/100\n",
      "7500/7500 [==============================] - 1s 175us/step - loss: 0.3438 - accuracy: 0.8596\n",
      "Epoch 53/100\n",
      "7500/7500 [==============================] - 1s 161us/step - loss: 0.3424 - accuracy: 0.8604\n",
      "Epoch 54/100\n",
      "7500/7500 [==============================] - 1s 184us/step - loss: 0.3425 - accuracy: 0.8600\n",
      "Epoch 55/100\n",
      "7500/7500 [==============================] - 1s 150us/step - loss: 0.3418 - accuracy: 0.8592\n",
      "Epoch 56/100\n",
      "7500/7500 [==============================] - 1s 141us/step - loss: 0.3430 - accuracy: 0.8599\n",
      "Epoch 57/100\n",
      "7500/7500 [==============================] - 1s 192us/step - loss: 0.3428 - accuracy: 0.8597\n",
      "Epoch 58/100\n",
      "7500/7500 [==============================] - 1s 178us/step - loss: 0.3426 - accuracy: 0.8620\n",
      "Epoch 59/100\n",
      "7500/7500 [==============================] - 2s 204us/step - loss: 0.3426 - accuracy: 0.8620\n",
      "Epoch 60/100\n",
      "7500/7500 [==============================] - 1s 153us/step - loss: 0.3412 - accuracy: 0.8625\n",
      "Epoch 61/100\n",
      "7500/7500 [==============================] - 1s 151us/step - loss: 0.3423 - accuracy: 0.8592\n",
      "Epoch 62/100\n",
      "7500/7500 [==============================] - 1s 148us/step - loss: 0.3413 - accuracy: 0.8604\n",
      "Epoch 63/100\n",
      "7500/7500 [==============================] - 1s 153us/step - loss: 0.3405 - accuracy: 0.8600\n",
      "Epoch 64/100\n",
      "7500/7500 [==============================] - 1s 138us/step - loss: 0.3426 - accuracy: 0.8625\n",
      "Epoch 65/100\n",
      "7500/7500 [==============================] - 1s 139us/step - loss: 0.3418 - accuracy: 0.8611\n",
      "Epoch 66/100\n",
      "7500/7500 [==============================] - 1s 140us/step - loss: 0.3419 - accuracy: 0.8612\n",
      "Epoch 67/100\n",
      "7500/7500 [==============================] - 1s 140us/step - loss: 0.3408 - accuracy: 0.8607\n",
      "Epoch 68/100\n",
      "7500/7500 [==============================] - 1s 140us/step - loss: 0.3417 - accuracy: 0.8599\n",
      "Epoch 69/100\n",
      "7500/7500 [==============================] - 1s 138us/step - loss: 0.3409 - accuracy: 0.8616\n",
      "Epoch 70/100\n",
      "7500/7500 [==============================] - 1s 136us/step - loss: 0.3402 - accuracy: 0.8607\n",
      "Epoch 71/100\n",
      "7500/7500 [==============================] - 1s 137us/step - loss: 0.3409 - accuracy: 0.8597\n",
      "Epoch 72/100\n",
      "7500/7500 [==============================] - 1s 136us/step - loss: 0.3420 - accuracy: 0.8600\n",
      "Epoch 73/100\n",
      "7500/7500 [==============================] - 1s 137us/step - loss: 0.3401 - accuracy: 0.8604\n",
      "Epoch 74/100\n",
      "7500/7500 [==============================] - 1s 136us/step - loss: 0.3403 - accuracy: 0.8596\n",
      "Epoch 75/100\n",
      "7500/7500 [==============================] - 1s 135us/step - loss: 0.3409 - accuracy: 0.8601\n",
      "Epoch 76/100\n",
      "7500/7500 [==============================] - 1s 135us/step - loss: 0.3414 - accuracy: 0.8593\n",
      "Epoch 77/100\n",
      "7500/7500 [==============================] - 1s 136us/step - loss: 0.3415 - accuracy: 0.8620\n",
      "Epoch 78/100\n",
      "7500/7500 [==============================] - 1s 135us/step - loss: 0.3405 - accuracy: 0.8615\n",
      "Epoch 79/100\n",
      "7500/7500 [==============================] - 1s 133us/step - loss: 0.3408 - accuracy: 0.8619\n",
      "Epoch 80/100\n",
      "7500/7500 [==============================] - 1s 131us/step - loss: 0.3405 - accuracy: 0.8615\n",
      "Epoch 81/100\n",
      "7500/7500 [==============================] - 1s 133us/step - loss: 0.3396 - accuracy: 0.8616\n",
      "Epoch 82/100\n",
      "7500/7500 [==============================] - 1s 132us/step - loss: 0.3408 - accuracy: 0.8593\n",
      "Epoch 83/100\n",
      "7500/7500 [==============================] - 1s 134us/step - loss: 0.3411 - accuracy: 0.8603\n",
      "Epoch 84/100\n",
      "7500/7500 [==============================] - 1s 134us/step - loss: 0.3402 - accuracy: 0.8599\n",
      "Epoch 85/100\n",
      "7500/7500 [==============================] - 1s 134us/step - loss: 0.3401 - accuracy: 0.8604\n",
      "Epoch 86/100\n",
      "7500/7500 [==============================] - 1s 133us/step - loss: 0.3410 - accuracy: 0.8611\n",
      "Epoch 87/100\n",
      "7500/7500 [==============================] - 1s 138us/step - loss: 0.3398 - accuracy: 0.8633\n",
      "Epoch 88/100\n",
      "7500/7500 [==============================] - 1s 133us/step - loss: 0.3395 - accuracy: 0.8601\n",
      "Epoch 89/100\n",
      "7500/7500 [==============================] - 1s 133us/step - loss: 0.3402 - accuracy: 0.8633\n",
      "Epoch 90/100\n",
      "7500/7500 [==============================] - 1s 133us/step - loss: 0.3402 - accuracy: 0.8596\n",
      "Epoch 91/100\n",
      "7500/7500 [==============================] - 1s 133us/step - loss: 0.3389 - accuracy: 0.8637\n",
      "Epoch 92/100\n",
      "7500/7500 [==============================] - 1s 134us/step - loss: 0.3403 - accuracy: 0.8603\n",
      "Epoch 93/100\n",
      "7500/7500 [==============================] - 1s 136us/step - loss: 0.3396 - accuracy: 0.8617\n",
      "Epoch 94/100\n",
      "7500/7500 [==============================] - 1s 136us/step - loss: 0.3392 - accuracy: 0.8623\n",
      "Epoch 95/100\n",
      "7500/7500 [==============================] - 1s 134us/step - loss: 0.3404 - accuracy: 0.8604\n",
      "Epoch 96/100\n",
      "7500/7500 [==============================] - 1s 133us/step - loss: 0.3394 - accuracy: 0.8621\n",
      "Epoch 97/100\n",
      "7500/7500 [==============================] - 1s 135us/step - loss: 0.3399 - accuracy: 0.8621\n",
      "Epoch 98/100\n",
      "7500/7500 [==============================] - 1s 133us/step - loss: 0.3395 - accuracy: 0.8619\n",
      "Epoch 99/100\n",
      "7500/7500 [==============================] - 1s 134us/step - loss: 0.3381 - accuracy: 0.8637\n",
      "Epoch 100/100\n",
      "7500/7500 [==============================] - 1s 133us/step - loss: 0.3395 - accuracy: 0.8619\n"
     ]
    },
    {
     "data": {
      "text/plain": [
       "<keras.callbacks.callbacks.History at 0x137e44efd88>"
      ]
     },
     "execution_count": 29,
     "metadata": {},
     "output_type": "execute_result"
    }
   ],
   "source": [
    "classifier.fit(X_train,y_train, batch_size = 10, nb_epoch = 100 )"
   ]
  },
  {
   "cell_type": "code",
   "execution_count": 30,
   "metadata": {},
   "outputs": [],
   "source": [
    "y_pred = classifier.predict(X_test)"
   ]
  },
  {
   "cell_type": "code",
   "execution_count": 33,
   "metadata": {},
   "outputs": [],
   "source": [
    "y_pred = (y_pred > .5)"
   ]
  },
  {
   "cell_type": "code",
   "execution_count": 34,
   "metadata": {},
   "outputs": [
    {
     "data": {
      "text/plain": [
       "array([[False],\n",
       "       [False],\n",
       "       [False],\n",
       "       ...,\n",
       "       [False],\n",
       "       [False],\n",
       "       [False]])"
      ]
     },
     "execution_count": 34,
     "metadata": {},
     "output_type": "execute_result"
    }
   ],
   "source": [
    "y_pred"
   ]
  },
  {
   "cell_type": "code",
   "execution_count": 35,
   "metadata": {},
   "outputs": [],
   "source": [
    "from sklearn.metrics import confusion_matrix\n",
    "cm = confusion_matrix(y_test, y_pred)"
   ]
  },
  {
   "cell_type": "code",
   "execution_count": 36,
   "metadata": {},
   "outputs": [
    {
     "data": {
      "text/plain": [
       "array([[1874,  117],\n",
       "       [ 238,  271]], dtype=int64)"
      ]
     },
     "execution_count": 36,
     "metadata": {},
     "output_type": "execute_result"
    }
   ],
   "source": [
    "cm"
   ]
  },
  {
   "cell_type": "code",
   "execution_count": 37,
   "metadata": {},
   "outputs": [],
   "source": [
    "new_prediction = classifier.predict(sc.transform(np.array([[0,0,600,1,40,3,60000,2,1,1,50000]])))"
   ]
  },
  {
   "cell_type": "code",
   "execution_count": 38,
   "metadata": {},
   "outputs": [],
   "source": [
    "new_prediction = (new_prediction > .5)"
   ]
  },
  {
   "cell_type": "code",
   "execution_count": 39,
   "metadata": {},
   "outputs": [
    {
     "data": {
      "text/plain": [
       "array([[False]])"
      ]
     },
     "execution_count": 39,
     "metadata": {},
     "output_type": "execute_result"
    }
   ],
   "source": [
    "new_prediction"
   ]
  },
  {
   "cell_type": "markdown",
   "metadata": {},
   "source": [
    "# k-fold"
   ]
  },
  {
   "cell_type": "code",
   "execution_count": 42,
   "metadata": {},
   "outputs": [],
   "source": [
    "from keras.wrappers.scikit_learn import KerasClassifier"
   ]
  },
  {
   "cell_type": "code",
   "execution_count": 43,
   "metadata": {},
   "outputs": [],
   "source": [
    "from sklearn.model_selection import cross_val_score"
   ]
  },
  {
   "cell_type": "code",
   "execution_count": 44,
   "metadata": {},
   "outputs": [],
   "source": [
    "def build_classifier():\n",
    "    classifier = Sequential()\n",
    "    classifier.add(Dense( 6, kernel_initializer  = 'uniform', activation = 'relu', input_dim = 11))\n",
    "    classifier.add(Dense( 6, kernel_initializer  = 'uniform', activation = 'relu'))\n",
    "    classifier.add(Dense( 1, kernel_initializer  = 'uniform', activation = 'sigmoid'))\n",
    "    classifier.compile(optimizer = 'adam', loss = 'binary_crossentropy', metrics = ['accuracy'])\n",
    "    return classifier\n",
    "classifier = KerasClassifier(build_fn = build_classifier, batch_size = 10, epochs = 100)\n",
    "accuracies= cross_val_score(estimator = classifier, X = X_train, y = y_train, cv =10, n_jobs = -1)"
   ]
  },
  {
   "cell_type": "code",
   "execution_count": 46,
   "metadata": {},
   "outputs": [
    {
     "data": {
      "text/plain": [
       "0.8386666655540467"
      ]
     },
     "execution_count": 46,
     "metadata": {},
     "output_type": "execute_result"
    }
   ],
   "source": [
    "accuracies.mean()"
   ]
  },
  {
   "cell_type": "code",
   "execution_count": 47,
   "metadata": {},
   "outputs": [
    {
     "data": {
      "text/plain": [
       "0.01517893892184981"
      ]
     },
     "execution_count": 47,
     "metadata": {},
     "output_type": "execute_result"
    }
   ],
   "source": [
    "accuracies.std()"
   ]
  },
  {
   "cell_type": "markdown",
   "metadata": {},
   "source": [
    "# how to apply dropout to overcome overfitting problems"
   ]
  },
  {
   "cell_type": "markdown",
   "metadata": {},
   "source": [
    "from keras.layers import Dropout"
   ]
  },
  {
   "cell_type": "markdown",
   "metadata": {},
   "source": [
    "classifier = Sequential()\n",
    "classifier.add(Dense( 6, kernel_initializer  = 'uniform', activation = 'relu', input_dim = 11))\n",
    "classifier.add(Dropout(p=.1))\n",
    "classifier.add(Dense( 6, kernel_initializer  = 'uniform', activation = 'relu'))\n",
    "classifier.add(Dropout(p=.1))\n",
    "classifier.add(Dense( 1, kernel_initializer  = 'uniform', activation = 'sigmoid'))"
   ]
  },
  {
   "cell_type": "markdown",
   "metadata": {},
   "source": [
    "# tuning ANN"
   ]
  },
  {
   "cell_type": "code",
   "execution_count": 49,
   "metadata": {},
   "outputs": [],
   "source": [
    "from sklearn.model_selection import GridSearchCV"
   ]
  },
  {
   "cell_type": "raw",
   "metadata": {},
   "source": [
    "def build_classifier(optimizer):\n",
    "    classifier = Sequential()\n",
    "    classifier.add(Dense( 6, kernel_initializer  = 'uniform', activation = 'relu', input_dim = 11))\n",
    "    classifier.add(Dense( 6, kernel_initializer  = 'uniform', activation = 'relu'))\n",
    "    classifier.add(Dense( 1, kernel_initializer  = 'uniform', activation = 'sigmoid'))\n",
    "    classifier.compile(optimizer = optimizer, loss = 'binary_crossentropy', metrics = ['accuracy'])\n",
    "    return classifier\n",
    "classifier = KerasClassifier(build_fn = build_classifier)\n",
    "\n",
    "\n",
    "parameters = {'batch_size':[25,32],\n",
    "             'epochs' : [100,500],\n",
    "             'optimizer': ['adam','rmsprop']}\n",
    "\n",
    "grid_search = GridSearchCV(estimator= classifier,\n",
    "                          param_grid= parameters,\n",
    "                          scoring= 'accuracy',\n",
    "                          cv = 10)\n",
    "\n",
    "\n",
    "grid_search = grid_search.fit(X_train,y_train)\n",
    "\n",
    "best_parameters = grid_search.best_params_\n",
    "best_accuracy = grid_search.best_score_\n"
   ]
  },
  {
   "cell_type": "code",
   "execution_count": null,
   "metadata": {},
   "outputs": [],
   "source": []
  }
 ],
 "metadata": {
  "kernelspec": {
   "display_name": "Python 3",
   "language": "python",
   "name": "python3"
  },
  "language_info": {
   "codemirror_mode": {
    "name": "ipython",
    "version": 3
   },
   "file_extension": ".py",
   "mimetype": "text/x-python",
   "name": "python",
   "nbconvert_exporter": "python",
   "pygments_lexer": "ipython3",
   "version": "3.7.6"
  }
 },
 "nbformat": 4,
 "nbformat_minor": 4
}
